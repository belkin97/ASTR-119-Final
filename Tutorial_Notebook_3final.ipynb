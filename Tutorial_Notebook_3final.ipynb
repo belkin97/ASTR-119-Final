{
 "cells": [
  {
   "cell_type": "markdown",
   "id": "52a096eb",
   "metadata": {},
   "source": [
    "### Import the Starting Databases(Javier)"
   ]
  },
  {
   "cell_type": "code",
   "execution_count": null,
   "id": "67027715",
   "metadata": {},
   "outputs": [],
   "source": [
    "import numpy as np #we use numpy to create arrays and mathematical process\n",
    "import sep #sep is a source exraction and photometry library "
   ]
  },
  {
   "cell_type": "markdown",
   "id": "6fc1ff2f",
   "metadata": {},
   "source": [
    "## Import FITS, matplotlib, set figure parameters"
   ]
  },
  {
   "cell_type": "code",
   "execution_count": null,
   "id": "db45a097",
   "metadata": {},
   "outputs": [],
   "source": [
    "from astropy.io import fits #We use \"fits\" to store images and tables \n",
    "import matplotlib.pyplot as plt #Allows us to show the images taken from the data\n",
    "from matplotlib import rcParams #rcParams is used to set color bar size, color,shape,origin,axis.\n",
    "\n",
    "\n",
    "%matplotlib inline \n",
    "\n",
    "rcParams['figure.figsize'] = [10., 8.] #default size of figures for the notebook "
   ]
  },
  {
   "cell_type": "markdown",
   "id": "88b6164a",
   "metadata": {},
   "source": [
    "## Read the image into a 2-D array "
   ]
  },
  {
   "cell_type": "code",
   "execution_count": null,
   "id": "c70dee1f",
   "metadata": {},
   "outputs": [],
   "source": [
    "fname = \"original image.fits\" #create a new name file \n",
    "hdu_list = fits.open(fname) #gives us header names and data\n",
    "hdu_list.info() #summary of the opened fits file"
   ]
  },
  {
   "cell_type": "markdown",
   "id": "9bd8eebf",
   "metadata": {},
   "source": [
    "## Get dimensions of image(Aakash)"
   ]
  },
  {
   "cell_type": "code",
   "execution_count": null,
   "id": "1d27f5ed",
   "metadata": {
    "scrolled": true
   },
   "outputs": [],
   "source": [
    "image_data = fits.getdata(fname) #data from the image \n",
    "print(type(image_data)) #prints the type of data \n",
    "print(image_data.shape) #prints the data shape in x,y plane"
   ]
  },
  {
   "cell_type": "markdown",
   "id": "887dcfaa",
   "metadata": {},
   "source": [
    "## Show image data"
   ]
  },
  {
   "cell_type": "code",
   "execution_count": null,
   "id": "e5ea2d02",
   "metadata": {
    "scrolled": true
   },
   "outputs": [],
   "source": [
    "plt.imshow(image_data, cmap='gray', origin = 'lower') #displays the image from the resultant array data\n",
    "plt.colorbar() #displays color bar on right side of the image"
   ]
  },
  {
   "cell_type": "markdown",
   "id": "18f4f794",
   "metadata": {},
   "source": [
    "## Additional data(Tali) "
   ]
  },
  {
   "cell_type": "code",
   "execution_count": null,
   "id": "d96ba70f",
   "metadata": {},
   "outputs": [],
   "source": [
    "print('Min:', np.min(image_data)) #prints the minimum value in the data array \n",
    "print('Max:', np.max(image_data)) #prints the maximum value in the data array \n",
    "print('Mean:', np.mean(image_data)) #prints the mean value in the data array \n",
    "print('Stdev:', np.std(image_data)) #prints the standard deviation of the values in the data array "
   ]
  },
  {
   "cell_type": "markdown",
   "id": "300839d6",
   "metadata": {},
   "source": [
    "## Get a better quality image using LogNorm(Aakash)"
   ]
  },
  {
   "cell_type": "code",
   "execution_count": null,
   "id": "88a163e4",
   "metadata": {},
   "outputs": [],
   "source": [
    "from matplotlib.colors import LogNorm #normailization of  given value in range of 0-1 in log scale"
   ]
  },
  {
   "cell_type": "code",
   "execution_count": null,
   "id": "8f28533c",
   "metadata": {},
   "outputs": [],
   "source": [
    "plt.imshow(image_data, cmap='gray', norm=LogNorm(), origin = 'lower') #image is created with a gray color map, normalized to a log scale\n",
    "\n",
    "cbar = plt.colorbar(ticks=[5.e3,1.e4,2.e4]) #creates a color bar on the right hand side\n",
    "cbar.ax.set_yticklabels(['5,000', '10,000','20,000']) #y-axes labled at 5000,10000,20000\n",
    "\n",
    "plt.savefig('fig1.png',bbox_inches='tight', dpi=300) #We now can save the figure in PNG format."
   ]
  },
  {
   "cell_type": "code",
   "execution_count": null,
   "id": "3fdb0098",
   "metadata": {},
   "outputs": [],
   "source": [
    "bkg = sep.Background(image_data) #create an array of the background using the default settings"
   ]
  },
  {
   "cell_type": "code",
   "execution_count": null,
   "id": "b5df82cf",
   "metadata": {},
   "outputs": [],
   "source": [
    "print(bkg.globalback) #prints the global mean of the image background\n",
    "print(bkg.globalrms) #prints the global noise of the image background"
   ]
  },
  {
   "cell_type": "code",
   "execution_count": null,
   "id": "60a3270d",
   "metadata": {},
   "outputs": [],
   "source": [
    "bkg_image = bkg.back() #set a 2-d array of background data, same size as the original image"
   ]
  },
  {
   "cell_type": "code",
   "execution_count": null,
   "id": "7e7b086d",
   "metadata": {},
   "outputs": [],
   "source": [
    "plt.imshow(bkg_image, interpolation='nearest', cmap='gray', origin='lower')\n",
    "#interpolation = 'nearest' means pixels are shown as a square of multiple pixels - works well when small images are scaled up.\n",
    "#cmap = 'gray' uses gray color map. \n",
    "#origin ='lower' sets the origin to the lower left hand corner\n",
    "plt.colorbar(); #displays the color bar\n",
    "plt.savefig('fig2.png',bbox_inches='tight', dpi=300) #save the figure as a PNG in the local folder. dpi will change during rasterizing so set bbox to tight."
   ]
  },
  {
   "cell_type": "code",
   "execution_count": null,
   "id": "e308bc24",
   "metadata": {},
   "outputs": [],
   "source": [
    "bkg_rms = bkg.rms() #set the background error (root mean square error)"
   ]
  },
  {
   "cell_type": "code",
   "execution_count": null,
   "id": "9d6d600e",
   "metadata": {},
   "outputs": [],
   "source": [
    "plt.imshow(bkg_rms, interpolation='nearest', cmap='gray', origin='lower') \n",
    "#we used interpolation=nearest to help refine the small image that was scaled. \n",
    "#cmap = 'gray' uses gray color map. \n",
    "#origin ='lower' origin is placed in the lower lefthand side\n",
    "plt.colorbar(); #displays the color bar\n",
    "plt.savefig('fig3.png',bbox_inches='tight', dpi=300) #save the figure as a PNG, but use 'tight' for same reasons as above."
   ]
  },
  {
   "cell_type": "code",
   "execution_count": null,
   "id": "a3740467",
   "metadata": {},
   "outputs": [],
   "source": [
    "data_sub = image_data - bkg #separates the background from the image to acquire new analytical data"
   ]
  },
  {
   "cell_type": "markdown",
   "id": "6f8c9158",
   "metadata": {},
   "source": [
    "### Detect objects on the background-subtracted data(Javier)"
   ]
  },
  {
   "cell_type": "code",
   "execution_count": null,
   "id": "643cc7b4",
   "metadata": {},
   "outputs": [],
   "source": [
    "objects = sep.extract(data_sub, 1.5, err=bkg.globalrms) #new data is extracted from the object"
   ]
  },
  {
   "cell_type": "code",
   "execution_count": null,
   "id": "edfc1136",
   "metadata": {},
   "outputs": [],
   "source": [
    "number_of_objects = len(objects) #number_of_objects is set to the length of the object list\n",
    "print(number_of_objects) #prints length of object list\n"
   ]
  },
  {
   "cell_type": "code",
   "execution_count": null,
   "id": "42fe5062",
   "metadata": {},
   "outputs": [],
   "source": [
    "# Ellipse module gives us the capability of drawing ellipse around the potential objects in the image\n",
    "from matplotlib.patches import Ellipse \n",
    "\n",
    "#backgroung image subtracted and plotted\n",
    "fig, ax = plt.subplots() #gives us the ability to combine multiple plots on a figure with proper axes\n",
    "m, s = np.mean(data_sub), np.std(data_sub) #we use the data_sub array elements to  find the mean and standard deviation\n",
    "\n",
    "im = ax.imshow(data_sub, \n",
    "               interpolation='nearest', # 'nearest' gives us the ability to work with scaled up images. Each pixel is shows as a square of multiple pixels. \n",
    "               cmap='gray', #cmap = 'gray' uses gray color map. \n",
    "               vmin=m-s, vmax=m+s, origin='lower') #vmin = m-s will map the color scale linearly with appropriate color corresponding to vmax and vmin.\n",
    "\n",
    "#individually plot around all of the objects\n",
    "for i in range(len(objects)): #for all i between 0 and number of objects\n",
    "    e = Ellipse(xy=(objects['x'][i], objects['y'][i]), \n",
    "                width=6*objects['a'][i], # width is semi-major axis of the ellipse\n",
    "                height=6*objects['b'][i], # Height is semi-minor axis of ellipse\n",
    "                angle=objects['theta'][i] * 180. / np.pi) # Angle is theta in degrees\n",
    "    e.set_facecolor('none') # 'none' means no ellispses found around our objects will be filled in\n",
    "    e.set_edgecolor('red') # red ellispes\n",
    "    ax.add_artist(e)       # Adds the ellipse subplot to the image subplot for an entire image\n",
    "    \n",
    "#Save the figure as a PNG in the local folder\n",
    "plt.savefig('fig4.png',bbox_inches='tight', dpi=300) "
   ]
  },
  {
   "cell_type": "markdown",
   "id": "d5f77575",
   "metadata": {},
   "source": [
    "### Aperture photometry - Perform simple circular aperture photometry with a 3 pixel radius at the locations of the objects"
   ]
  },
  {
   "cell_type": "code",
   "execution_count": null,
   "id": "f0cb7019",
   "metadata": {},
   "outputs": [],
   "source": [
    "# We now need to Calculate the Flux\n",
    "# Flux = total energy croossing an per unit time \n",
    "# Fluxerr = flux error; (sigma^2)_F = sigma^2 summed over i + F/g\n",
    "# err=bck.globalrms is the rms fluctuation in the noise of the image \n",
    "# Set F = 3.0; sum of the flux within the radius of 3 pixels and aperture of around 0.4 arcseconds\n",
    "# gain is the position uncertainty\n",
    "\n",
    "flux, fluxerr, flag = sep.sum_circle(data_sub, objects['x'], objects['y'],\n",
    "                                     3.0, err=bkg.globalrms, gain=1.0) \n",
    "\n"
   ]
  },
  {
   "cell_type": "code",
   "execution_count": null,
   "id": "2f0f98f7",
   "metadata": {},
   "outputs": [],
   "source": [
    "# Now we print the first 10 fluxes with theior respective uncertainties\n",
    "for i in range(10):\n",
    "    print(\"object {:d}: flux = {:f} +/- {:f}\".format(i, flux[i], fluxerr[i])) "
   ]
  },
  {
   "cell_type": "markdown",
   "id": "295e9d26",
   "metadata": {},
   "source": [
    "### Plot the histogram of the fluxes"
   ]
  },
  {
   "cell_type": "code",
   "execution_count": null,
   "id": "aab5c1ef",
   "metadata": {},
   "outputs": [],
   "source": [
    " # Convert the flux data array to 1D\n",
    "# Plot the Histogram of the fluxes. \n",
    "# X-axis - magnitude of the flux\n",
    "# Y-axis - Number of objects with similar flux\n",
    "# bins  - Number of rectangles the data is split into. Auto value will choose best fit.\n",
    "\n",
    "histogram = plt.hist(flux.flatten(), bins='auto')\n"
   ]
  },
  {
   "cell_type": "code",
   "execution_count": null,
   "id": "42a9d81d",
   "metadata": {},
   "outputs": [],
   "source": []
  }
 ],
 "metadata": {
  "kernelspec": {
   "display_name": "Python 3 (ipykernel)",
   "language": "python",
   "name": "python3"
  },
  "language_info": {
   "codemirror_mode": {
    "name": "ipython",
    "version": 3
   },
   "file_extension": ".py",
   "mimetype": "text/x-python",
   "name": "python",
   "nbconvert_exporter": "python",
   "pygments_lexer": "ipython3",
   "version": "3.9.7"
  }
 },
 "nbformat": 4,
 "nbformat_minor": 5
}
