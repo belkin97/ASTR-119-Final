{
 "cells": [
  {
   "cell_type": "markdown",
   "id": "52a096eb",
   "metadata": {},
   "source": [
    "## Import the packages we need## Read the image into a 2D array (Tali)"
   ]
  },
  {
   "cell_type": "code",
   "execution_count": 2,
   "id": "67027715",
   "metadata": {},
   "outputs": [],
   "source": [
    "import numpy as np #numpy will read the image into an array for source extraction \n",
    "import sep #sep is a source exraction and photometry library "
   ]
  },
  {
   "cell_type": "code",
   "execution_count": 3,
   "id": "db45a097",
   "metadata": {},
   "outputs": [],
   "source": [
    "from astropy.io import fits #flexible image transport system (fits) is a portable file standard used to store images and tables\n",
    "import matplotlib.pyplot as plt #needed to show resultant images\n",
    "from matplotlib import rcParams #rcParams allows us to set color bar size, color, shape, origin, axes.\n",
    "\n",
    "%matplotlib inline \n",
    "#the plots will be displayed below the matplotlib commands and will be stored in the notebook\n",
    "\n",
    "rcParams['figure.figsize'] = [10., 8.] #set the default size of figures for the notebook "
   ]
  },
  {
   "cell_type": "code",
   "execution_count": null,
   "id": "8f28533c",
   "metadata": {},
   "outputs": [],
   "source": []
  },
  {
   "cell_type": "code",
   "execution_count": null,
   "id": "3fdb0098",
   "metadata": {},
   "outputs": [],
   "source": []
  },
  {
   "cell_type": "code",
   "execution_count": null,
   "id": "b5df82cf",
   "metadata": {},
   "outputs": [],
   "source": []
  },
  {
   "cell_type": "code",
   "execution_count": null,
   "id": "60a3270d",
   "metadata": {},
   "outputs": [],
   "source": []
  },
  {
   "cell_type": "code",
   "execution_count": null,
   "id": "7e7b086d",
   "metadata": {},
   "outputs": [],
   "source": []
  },
  {
   "cell_type": "code",
   "execution_count": null,
   "id": "e308bc24",
   "metadata": {},
   "outputs": [],
   "source": []
  },
  {
   "cell_type": "code",
   "execution_count": null,
   "id": "9d6d600e",
   "metadata": {},
   "outputs": [],
   "source": []
  },
  {
   "cell_type": "code",
   "execution_count": null,
   "id": "a3740467",
   "metadata": {},
   "outputs": [],
   "source": []
  },
  {
   "cell_type": "code",
   "execution_count": null,
   "id": "643cc7b4",
   "metadata": {},
   "outputs": [],
   "source": []
  },
  {
   "cell_type": "code",
   "execution_count": null,
   "id": "edfc1136",
   "metadata": {},
   "outputs": [],
   "source": []
  },
  {
   "cell_type": "code",
   "execution_count": null,
   "id": "42fe5062",
   "metadata": {},
   "outputs": [],
   "source": []
  },
  {
   "cell_type": "code",
   "execution_count": null,
   "id": "f0cb7019",
   "metadata": {},
   "outputs": [],
   "source": []
  },
  {
   "cell_type": "code",
   "execution_count": null,
   "id": "2f0f98f7",
   "metadata": {},
   "outputs": [],
   "source": [
    " "
   ]
  },
  {
   "cell_type": "code",
   "execution_count": null,
   "id": "aab5c1ef",
   "metadata": {},
   "outputs": [],
   "source": []
  },
  {
   "cell_type": "code",
   "execution_count": null,
   "id": "42a9d81d",
   "metadata": {},
   "outputs": [],
   "source": []
  }
 ],
 "metadata": {
  "kernelspec": {
   "display_name": "Python 3 (ipykernel)",
   "language": "python",
   "name": "python3"
  },
  "language_info": {
   "codemirror_mode": {
    "name": "ipython",
    "version": 3
   },
   "file_extension": ".py",
   "mimetype": "text/x-python",
   "name": "python",
   "nbconvert_exporter": "python",
   "pygments_lexer": "ipython3",
   "version": "3.9.7"
  }
 },
 "nbformat": 4,
 "nbformat_minor": 5
}
