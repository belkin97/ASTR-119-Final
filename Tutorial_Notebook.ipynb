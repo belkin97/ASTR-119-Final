{
 "cells": [
  {
   "cell_type": "markdown",
   "id": "193d0158",
   "metadata": {},
   "source": [
    "### Import the Starting Databases(Javier)"
   ]
  },
  {
   "cell_type": "code",
   "execution_count": null,
   "id": "523de2e3",
   "metadata": {},
   "outputs": [],
   "source": [
    "import numpy as np #numpy will read the image into an array for source extraction \n",
    "import sep #sep is a source exraction and photometry library"
   ]
  },
  {
   "cell_type": "markdown",
   "id": "c0c9d248",
   "metadata": {},
   "source": [
    "### Import FITS, matplotlib, set figure parameters"
   ]
  },
  {
   "cell_type": "code",
   "execution_count": null,
   "id": "574f6cab",
   "metadata": {},
   "outputs": [],
   "source": [
    "from astropy.io import fits #flexible image transport system (fits) is a portable file standard used to store images and tables\n",
    "import matplotlib.pyplot as plt #needed to show resultant images\n",
    "from matplotlib import rcParams #rcParams allows us to set color bar size, color, shape, origin, axes.\n",
    "\n",
    "#the plots will be displayed below the matplotlib commands and will be stored in the notebook\n",
    "%matplotlib inline \n",
    "\n",
    "rcParams['figure.figsize'] = [10., 8.] #set the default size of figures for the notebook "
   ]
  },
  {
   "cell_type": "markdown",
   "id": "328099f5",
   "metadata": {},
   "source": [
    "### Read the image into a 2-D array"
   ]
  },
  {
   "cell_type": "code",
   "execution_count": null,
   "id": "175aebf4",
   "metadata": {},
   "outputs": [],
   "source": [
    "fname = \"original image.fits\" #rename the tutorial image \n",
    "hdu_list = fits.open(fname) #opens the header data unit (highest level component of fits; includes a header and a data array or table)\n",
    "hdu_list.info() #summarizes content of the opened fits file"
   ]
  },
  {
   "cell_type": "markdown",
   "id": "849c450b",
   "metadata": {},
   "source": [
    "## Get dimensions of image"
   ]
  },
  {
   "cell_type": "code",
   "execution_count": null,
   "id": "7f8b6ecb",
   "metadata": {},
   "outputs": [],
   "source": [
    "image_data = fits.getdata(fname) #gets data from the image \n",
    "print(type(image_data)) #prints the type of data \n",
    "print(image_data.shape) #prints the data shape (dimensions in (x,y))."
   ]
  },
  {
   "cell_type": "markdown",
   "id": "86a02d6f",
   "metadata": {},
   "source": [
    "## Show image data"
   ]
  },
  {
   "cell_type": "code",
   "execution_count": null,
   "id": "c41bc2f0",
   "metadata": {},
   "outputs": [],
   "source": [
    "plt.imshow(image_data, cmap='gray', origin = 'lower') #shows the image constructed from the array data using a gray color map.\n",
    "plt.colorbar() #shows the color bar on the right hand side of the image."
   ]
  }
 ],
 "metadata": {
  "kernelspec": {
   "display_name": "Python 3 (ipykernel)",
   "language": "python",
   "name": "python3"
  },
  "language_info": {
   "codemirror_mode": {
    "name": "ipython",
    "version": 3
   },
   "file_extension": ".py",
   "mimetype": "text/x-python",
   "name": "python",
   "nbconvert_exporter": "python",
   "pygments_lexer": "ipython3",
   "version": "3.10.0"
  }
 },
 "nbformat": 4,
 "nbformat_minor": 5
}
