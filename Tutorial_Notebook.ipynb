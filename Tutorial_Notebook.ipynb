{
 "cells": [
  {
   "cell_type": "markdown",
   "id": "bdd3ece3",
   "metadata": {},
   "source": [
    "### Import the starting databases(Javier)"
   ]
  },
  {
   "cell_type": "code",
   "execution_count": null,
   "id": "d09f539b",
   "metadata": {},
   "outputs": [],
   "source": [
    "import numpy as np #numpy will read the image into an array for source extraction \n",
    "import sep #sep is a source exraction and photometry library"
   ]
  },
  {
   "cell_type": "markdown",
   "id": "228e6e22",
   "metadata": {},
   "source": [
    "### Import FITS, matplotlib, set figure parameters"
   ]
  },
  {
   "cell_type": "code",
   "execution_count": null,
   "id": "915b763b",
   "metadata": {},
   "outputs": [],
   "source": [
    "from astropy.io import fits #flexible image transport system (fits) is a portable file standard used to store images and tables\n",
    "import matplotlib.pyplot as plt #needed to show resultant images\n",
    "from matplotlib import rcParams #rcParams allows us to set color bar size, color, shape, origin, axes.\n",
    "\n",
    "#the plots will be displayed below the matplotlib commands and will be stored in the notebook\n",
    "%matplotlib inline \n",
    "\n",
    "rcParams['figure.figsize'] = [10., 8.] #set the default size of figures for the notebook "
   ]
  },
  {
   "cell_type": "markdown",
   "id": "30531983",
   "metadata": {},
   "source": [
    "### Read the image into a 2-D array"
   ]
  },
  {
   "cell_type": "code",
   "execution_count": null,
   "id": "c0180432",
   "metadata": {},
   "outputs": [],
   "source": [
    "fname = \"original image.fits\" #rename the tutorial image \n",
    "hdu_list = fits.open(fname) #opens the header data unit (highest level component of fits; includes a header and a data array or table)\n",
    "hdu_list.info() #summarizes content of the opened fits file"
   ]
  },
  {
   "cell_type": "code",
   "execution_count": null,
   "id": "4f442491",
   "metadata": {},
   "outputs": [],
   "source": []
  }
 ],
 "metadata": {
  "kernelspec": {
   "display_name": "Python 3 (ipykernel)",
   "language": "python",
   "name": "python3"
  },
  "language_info": {
   "codemirror_mode": {
    "name": "ipython",
    "version": 3
   },
   "file_extension": ".py",
   "mimetype": "text/x-python",
   "name": "python",
   "nbconvert_exporter": "python",
   "pygments_lexer": "ipython3",
   "version": "3.10.0"
  }
 },
 "nbformat": 4,
 "nbformat_minor": 5
}
