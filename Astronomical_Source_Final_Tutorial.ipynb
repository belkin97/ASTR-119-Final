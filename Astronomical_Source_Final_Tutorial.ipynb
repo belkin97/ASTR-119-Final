{
 "cells": [
  {
   "cell_type": "markdown",
   "id": "e22dd957",
   "metadata": {},
   "source": [
    "## In this part we're replicating the SEP tutorial of detecting objects in an image and performing aperture photometry, but using techniques from ASTR-119."
   ]
  },
  {
   "cell_type": "markdown",
   "id": "646f4f12",
   "metadata": {},
   "source": [
    "### Import Numpy, SEP, astropy.fits, and matplotlib packages\n",
    "\n",
    "### Set parameters of the figure"
   ]
  },
  {
   "cell_type": "code",
   "execution_count": null,
   "id": "5043b704",
   "metadata": {},
   "outputs": [],
   "source": [
    "import numpy as np\n",
    "import sep"
   ]
  },
  {
   "cell_type": "code",
   "execution_count": null,
   "id": "b0b77656",
   "metadata": {},
   "outputs": [],
   "source": [
    "from astropy.io import fits\n",
    "import matplotlib.pyplot as plt\n",
    "from matplotlib import rcParams\n",
    "\n",
    "%matplotlib inline\n",
    "\n",
    "rcParams['figure.figsize'] = [10., 8.]"
   ]
  },
  {
   "cell_type": "markdown",
   "id": "6c992134",
   "metadata": {},
   "source": [
    "### First, we'll use an example image from a FITS file and display it. The example image is 256 x 256 pixels."
   ]
  },
  {
   "cell_type": "code",
   "execution_count": null,
   "id": "ea55d6b8",
   "metadata": {},
   "outputs": [],
   "source": [
    "# Let's put the image as a 2-D numpy array by opening the file and indexing hdu_list.\n",
    "fname = \"image.fits\"\n",
    "hdu_list = fits.open(fname)\n",
    "hdu_list.info()"
   ]
  },
  {
   "cell_type": "markdown",
   "id": "d222fd42",
   "metadata": {},
   "source": [
    "### Let's index hdu_list"
   ]
  },
  {
   "cell_type": "code",
   "execution_count": null,
   "id": "a139a228",
   "metadata": {},
   "outputs": [],
   "source": [
    "image_data = hdu_list[0].data"
   ]
  },
  {
   "cell_type": "markdown",
   "id": "4a9c5a82",
   "metadata": {},
   "source": [
    "### Let's display the image's resolution just to be certain"
   ]
  },
  {
   "cell_type": "code",
   "execution_count": null,
   "id": "09a102d1",
   "metadata": {},
   "outputs": [],
   "source": [
    "print(type(image_data))\n",
    "print(image_data.shape)"
   ]
  },
  {
   "cell_type": "markdown",
   "id": "ca74635c",
   "metadata": {},
   "source": [
    "### Since we've checked, we can move forward"
   ]
  },
  {
   "cell_type": "code",
   "execution_count": null,
   "id": "3bc3cfa4",
   "metadata": {},
   "outputs": [],
   "source": [
    "hdu_list.close()"
   ]
  },
  {
   "cell_type": "markdown",
   "id": "d3213fce",
   "metadata": {},
   "source": [
    "### Let's show the data"
   ]
  },
  {
   "cell_type": "code",
   "execution_count": null,
   "id": "7e7ee254",
   "metadata": {},
   "outputs": [],
   "source": [
    "plt.imshow(image_data, cmap='gray')\n",
    "plt.colorbar()"
   ]
  },
  {
   "cell_type": "code",
   "execution_count": null,
   "id": "a81527fc",
   "metadata": {},
   "outputs": [],
   "source": [
    "print('Min:', np.min(image_data))\n",
    "print('Max', np.max(image_data))\n",
    "print('Mean:', np.mean(image_data))\n",
    "print('Stdev:', np.std(image_data))"
   ]
  },
  {
   "cell_type": "code",
   "execution_count": null,
   "id": "30366775",
   "metadata": {},
   "outputs": [],
   "source": [
    "histogram = plt.hist(image_data.flatten(), bins='auto')"
   ]
  },
  {
   "cell_type": "markdown",
   "id": "66bc0310",
   "metadata": {},
   "source": [
    "### Let's display the same image using a logarithmic scale instead\n",
    "\n",
    "#### We'll use LogNorm from matplotlib "
   ]
  },
  {
   "cell_type": "code",
   "execution_count": null,
   "id": "b3de1ec2",
   "metadata": {},
   "outputs": [],
   "source": [
    "from matplotlib.colors import LogNorm #Normal Log... Log base 10?"
   ]
  },
  {
   "cell_type": "code",
   "execution_count": null,
   "id": "c2c2e794",
   "metadata": {},
   "outputs": [],
   "source": [
    "plt.imshow(image_data,cmap='gray', norm=LogNorm())\n",
    "\n",
    "cbar = plt.colorbar(ticks=[5.e3,1.e4,2.e4])\n",
    "cbar.ax.set_yticklabels(['8,000','10,000','20,000'])\n",
    "\n",
    "plt.savefig('fig1.png',bbox_inches='tight',dpi=300) #had to put this in the same cell to save proper"
   ]
  },
  {
   "cell_type": "code",
   "execution_count": null,
   "id": "012b24ed",
   "metadata": {},
   "outputs": [],
   "source": [
    "#data = image_data.byteswap().newbyteorder(), Javier had to use this line\n",
    "bkg = sep.Background(image_data)"
   ]
  },
  {
   "cell_type": "code",
   "execution_count": null,
   "id": "4740d3b2",
   "metadata": {},
   "outputs": [],
   "source": [
    "print(bkg.globalback)\n",
    "print(bkg.globalrms)"
   ]
  },
  {
   "cell_type": "code",
   "execution_count": null,
   "id": "7631638e",
   "metadata": {},
   "outputs": [],
   "source": [
    "bkg_image = bkg.back()"
   ]
  },
  {
   "cell_type": "code",
   "execution_count": null,
   "id": "6873c93f",
   "metadata": {},
   "outputs": [],
   "source": [
    "plt.imshow(bkg_image, interpolation='nearest', cmap='gray', origin='lower') \n",
    "plt.colorbar();\n",
    "plt.savefig('fig2.png',bbox_inches='tight', dpi=300)"
   ]
  },
  {
   "cell_type": "code",
   "execution_count": null,
   "id": "8133c2d8",
   "metadata": {},
   "outputs": [],
   "source": [
    "bkg_rms = bkg.rms()"
   ]
  },
  {
   "cell_type": "code",
   "execution_count": null,
   "id": "163f90eb",
   "metadata": {},
   "outputs": [],
   "source": [
    "plt.imshow(bkg_image, interpolation='nearest', cmap='gray', origin='lower') \n",
    "plt.colorbar();\n",
    "plt.savefig('fig3.png',bbox_inches='tight', dpi=300)"
   ]
  },
  {
   "cell_type": "code",
   "execution_count": null,
   "id": "79efa976",
   "metadata": {},
   "outputs": [],
   "source": [
    "#we're going to get a noise difference\n",
    "data_sub = image_data - bkg"
   ]
  },
  {
   "cell_type": "code",
   "execution_count": null,
   "id": "8416dfaa",
   "metadata": {},
   "outputs": [],
   "source": [
    "#individualize the objects from the new data difference\n",
    "objects = sep.extract(data_sub, 1.5, err=bkg.globalrms)"
   ]
  },
  {
   "cell_type": "code",
   "execution_count": null,
   "id": "88117456",
   "metadata": {},
   "outputs": [],
   "source": [
    "#How many objects did we find?\n",
    "amount_of_objects = len(objects)\n",
    "print(amount_of_objects)"
   ]
  },
  {
   "cell_type": "markdown",
   "id": "e37244d7",
   "metadata": {},
   "source": [
    "### Aperture photometry! "
   ]
  },
  {
   "cell_type": "code",
   "execution_count": null,
   "id": "7255307a",
   "metadata": {},
   "outputs": [],
   "source": [
    "from matplotlib.patches import Ellipse #we're going to single out the objects\n",
    "\n",
    "#plotting the background-difference\n",
    "fix, ax = plt.subplots()\n",
    "m,s = np.mean(data_sub), np.std(data_sub)\n",
    "im = ax.imshow(data_sub, interpolation='nearest', cmap='gray', vmin=m-s, vmax=m+s, origin='lower')\n",
    "\n",
    "# cirrccless (We're putting an ellipse around each object to better see)\n",
    "for i in range(len(objects)):\n",
    "    e = Ellipse(xy=(objects['x'][i], objects['y'][i]),\n",
    "                width=6*objects['a'][i],\n",
    "                height=6*objects['b'][i],\n",
    "                angle=objects['theta'][i] * 180. / np.pi)\n",
    "    e.set_facecolor('none')\n",
    "    e.set_edgecolor('green')\n",
    "    ax.add_artist(e) \n",
    "plt.savefig('fig4.png',bbox_inches='tight', dpi=350)"
   ]
  },
  {
   "cell_type": "code",
   "execution_count": null,
   "id": "649b7bff",
   "metadata": {},
   "outputs": [],
   "source": [
    "#let's see all the object types\n",
    "objects.dtype.names"
   ]
  },
  {
   "cell_type": "code",
   "execution_count": null,
   "id": "ff927b38",
   "metadata": {},
   "outputs": [],
   "source": [
    "flux, fluxerr, flag = sep.sum_circle(data_sub, objects['x'], objects['y'], 3.0, err=bkg.globalrms, gain=1.0)"
   ]
  },
  {
   "cell_type": "code",
   "execution_count": null,
   "id": "92741f52",
   "metadata": {},
   "outputs": [],
   "source": [
    "for i in range(1):\n",
    "    print(\"object {:d}: flux = {:f} +/- {:f}\".format(i, flux[i], fluxerr[i]))"
   ]
  },
  {
   "cell_type": "code",
   "execution_count": null,
   "id": "ba1339fd",
   "metadata": {},
   "outputs": [],
   "source": [
    "histogram = plt.hist(flux.flatten(), bins = 'auto') #plot the data as a histogram"
   ]
  }
 ],
 "metadata": {
  "kernelspec": {
   "display_name": "Python 3 (ipykernel)",
   "language": "python",
   "name": "python3"
  },
  "language_info": {
   "codemirror_mode": {
    "name": "ipython",
    "version": 3
   },
   "file_extension": ".py",
   "mimetype": "text/x-python",
   "name": "python",
   "nbconvert_exporter": "python",
   "pygments_lexer": "ipython3",
   "version": "3.9.9"
  }
 },
 "nbformat": 4,
 "nbformat_minor": 5
}
#testing

