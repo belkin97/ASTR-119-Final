{
 "cells": [
  {
   "cell_type": "markdown",
   "id": "52a096eb",
   "metadata": {},
   "source": [
    "## Import our favorite friends"
   ]
  },
  {
   "cell_type": "code",
   "execution_count": null,
   "id": "67027715",
   "metadata": {},
   "outputs": [],
   "source": [
    "import numpy as np #numpy will read the image into an array for source extraction \n",
    "import sep #sep is a source exraction and photometry library "
   ]
  },
  {
   "cell_type": "markdown",
   "id": "6fc1ff2f",
   "metadata": {},
   "source": [
    "## Import FITS, matplotlib, set figure parameters"
   ]
  },
  {
   "cell_type": "code",
   "execution_count": null,
   "id": "db45a097",
   "metadata": {},
   "outputs": [],
   "source": [
    "from astropy.io import fits #flexible image transport system (fits) is a portable file standard used to store images and tables\n",
    "import matplotlib.pyplot as plt #needed to show resultant images\n",
    "from matplotlib import rcParams #rcParams allows us to set color bar size, color, shape, origin, axes.\n",
    "\n",
    "#the plots will be displayed below the matplotlib commands and will be stored in the notebook\n",
    "%matplotlib inline \n",
    "\n",
    "rcParams['figure.figsize'] = [10., 8.] #set the default size of figures for the notebook "
   ]
  },
  {
   "cell_type": "markdown",
   "id": "88b6164a",
   "metadata": {},
   "source": [
    "## Read the image into a 2-D array "
   ]
  },
  {
   "cell_type": "code",
   "execution_count": null,
   "id": "c70dee1f",
   "metadata": {},
   "outputs": [],
   "source": [
    "fname = \"original image.fits\" #rename the tutorial image \n",
    "hdu_list = fits.open(fname) #opens the header data unit (highest level component of fits; includes a header and a data array or table)\n",
    "hdu_list.info() #summarizes content of the opened fits file"
   ]
  },
  {
   "cell_type": "markdown",
   "id": "9bd8eebf",
   "metadata": {},
   "source": [
    "## Get dimensions of image"
   ]
  },
  {
   "cell_type": "code",
   "execution_count": null,
   "id": "1d27f5ed",
   "metadata": {
    "scrolled": true
   },
   "outputs": [],
   "source": [
    "image_data = fits.getdata(fname) #gets data from the image \n",
    "print(type(image_data)) #prints the type of data \n",
    "print(image_data.shape) #prints the data shape (dimensions in (x,y))."
   ]
  },
  {
   "cell_type": "markdown",
   "id": "887dcfaa",
   "metadata": {},
   "source": [
    "## Show image data"
   ]
  },
  {
   "cell_type": "code",
   "execution_count": null,
   "id": "e5ea2d02",
   "metadata": {
    "scrolled": true
   },
   "outputs": [],
   "source": [
    "plt.imshow(image_data, cmap='gray', origin = 'lower') #shows the image constructed from the array data using a gray color map.\n",
    "plt.colorbar() #shows the color bar on the right hand side of the image."
   ]
  },
  {
   "cell_type": "markdown",
   "id": "18f4f794",
   "metadata": {},
   "source": [
    "## Get additional data for fun"
   ]
  },
  {
   "cell_type": "code",
   "execution_count": null,
   "id": "d96ba70f",
   "metadata": {},
   "outputs": [],
   "source": [
    "print('Min:', np.min(image_data)) #prints the minimum value in the data array \n",
    "print('Max:', np.max(image_data)) #prints the maximum value in the data array \n",
    "print('Mean:', np.mean(image_data)) #prints the mean value in the data array \n",
    "print('Stdev:', np.std(image_data)) #prints the standard deviation of the values in the data array "
   ]
  },
  {
   "cell_type": "markdown",
   "id": "300839d6",
   "metadata": {},
   "source": [
    "## Get a better quality image using LogNorm"
   ]
  },
  {
   "cell_type": "code",
   "execution_count": null,
   "id": "88a163e4",
   "metadata": {},
   "outputs": [],
   "source": [
    "from matplotlib.colors import LogNorm #lognorm normalizes the given value to a range of 0 to 1 on a logarithmic scale"
   ]
  },
  {
   "cell_type": "code",
   "execution_count": null,
   "id": "8f28533c",
   "metadata": {},
   "outputs": [],
   "source": [
    "plt.imshow(image_data, cmap='gray', norm=LogNorm(), origin = 'lower') #shows image with gray color map, normalize on a log scale so the bright features show up better \n",
    "\n",
    "cbar = plt.colorbar(ticks=[5.e3,1.e4,2.e4]) #color bar on the right hand side should have ticks set at 5000, 10000, and 20000\n",
    "cbar.ax.set_yticklabels(['5,000', '10,000','20,000']) #set the tick labels on the y-axes color bar at 5k, 10k, and 20k.\n",
    "\n",
    "plt.savefig('fig1.png',bbox_inches='tight', dpi=300) #save the figure as a PNG in the local folder. dpi will change during rasterizing so set bbox to tight."
   ]
  },
  {
   "cell_type": "code",
   "execution_count": null,
   "id": "3fdb0098",
   "metadata": {},
   "outputs": [],
   "source": [
    "bkg = sep.Background(image_data) #create an array of the background using default settings"
   ]
  },
  {
   "cell_type": "code",
   "execution_count": null,
   "id": "b5df82cf",
   "metadata": {},
   "outputs": [],
   "source": [
    "print(bkg.globalback) #prints the global mean of the image background\n",
    "print(bkg.globalrms) #prints the global noise of the image background"
   ]
  },
  {
   "cell_type": "code",
   "execution_count": null,
   "id": "60a3270d",
   "metadata": {},
   "outputs": [],
   "source": [
    "bkg_image = bkg.back() #set a 2-d array of background data, same size as the original image"
   ]
  },
  {
   "cell_type": "code",
   "execution_count": null,
   "id": "7e7b086d",
   "metadata": {},
   "outputs": [],
   "source": [
    "plt.imshow(bkg_image, interpolation='nearest', cmap='gray', origin='lower')\n",
    "#interpolation = 'nearest' means pixels are shown as a square of multiple pixels - works well when small images are scaled up.\n",
    "#cmap = 'gray' uses gray color map. Could use magma, plasma, inferno, etc..\n",
    "#origin ='lower' sets the origin to the lower left hand corner\n",
    "plt.colorbar(); #displays the color bar\n",
    "plt.savefig('fig2.png',bbox_inches='tight', dpi=300) #save the figure as a PNG in the local folder. dpi will change during rasterizing so set bbox to tight."
   ]
  },
  {
   "cell_type": "code",
   "execution_count": null,
   "id": "e308bc24",
   "metadata": {},
   "outputs": [],
   "source": [
    "bkg_rms = bkg.rms() #set the background error (root mean square error)"
   ]
  },
  {
   "cell_type": "code",
   "execution_count": null,
   "id": "9d6d600e",
   "metadata": {},
   "outputs": [],
   "source": [
    "plt.imshow(bkg_rms, interpolation='nearest', cmap='gray', origin='lower') \n",
    "#interpolation = 'nearest' means pixels are shown as a square of multiple pixels - works well when small images are scaled up.\n",
    "#cmap = 'gray' uses gray color map. Could use magma, plasma, inferno, etc..\n",
    "#origin ='lower' sets the origin to the lower left hand corner\n",
    "plt.colorbar(); #displays the color bar\n",
    "plt.savefig('fig3.png',bbox_inches='tight', dpi=300) #save the figure as a PNG in the local folder. dpi will change during rasterizing so set bbox to tight."
   ]
  },
  {
   "cell_type": "code",
   "execution_count": null,
   "id": "a3740467",
   "metadata": {},
   "outputs": [],
   "source": [
    "data_sub = image_data - bkg #subtracts the background from the image data to get new data for analysis"
   ]
  },
  {
   "cell_type": "markdown",
   "id": "6f8c9158",
   "metadata": {},
   "source": [
    "### Detect objects on the background-subtracted data"
   ]
  },
  {
   "cell_type": "code",
   "execution_count": null,
   "id": "643cc7b4",
   "metadata": {},
   "outputs": [],
   "source": [
    "objects = sep.extract(data_sub, 1.5, err=bkg.globalrms) #extracts the objects from the new data"
   ]
  },
  {
   "cell_type": "code",
   "execution_count": null,
   "id": "edfc1136",
   "metadata": {},
   "outputs": [],
   "source": [
    "number_of_objects = len(objects) #number_of_objects is equal to the length of the object list\n",
    "print(number_of_objects) #prints the length of the object list\n",
    "#could have written len(objects) instead "
   ]
  },
  {
   "cell_type": "code",
   "execution_count": null,
   "id": "42fe5062",
   "metadata": {},
   "outputs": [],
   "source": [
    "# Import Ellipse module for drawing ellipses around the objects in the image\n",
    "from matplotlib.patches import Ellipse \n",
    "\n",
    "#Plot the background-subtracted image\n",
    "fig, ax = plt.subplots() #allows combination of multiple plots on a single figure with axes.\n",
    "m, s = np.mean(data_sub), np.std(data_sub) #compute the mean and standard deviation from the data_sub array elements\n",
    "\n",
    "im = ax.imshow(data_sub, \n",
    "               interpolation='nearest', #'nearest' means pixels are shown as a square of multiple pixels - works well when small images are scaled up.\n",
    "               cmap='gray', #cmap = 'gray' uses gray color map. Could use magma, plasma, inferno, etc..\n",
    "               vmin=m-s, vmax=m+s, origin='lower') #vmin = m-s will map the color scale linearly so white is vmax and darjer gray is vmin.\n",
    "\n",
    "#Plot one ellipse around each object\n",
    "for i in range(len(objects)): #for all i between 0 and number of objects\n",
    "    e = Ellipse(xy=(objects['x'][i], objects['y'][i]), \n",
    "                width=6*objects['a'][i], # Width (semi-major axis) of ellipse is 6 times the object. \n",
    "                height=6*objects['b'][i], # Height (semi-minor axis) of ellipse is 6 times the height.\n",
    "                angle=objects['theta'][i] * 180. / np.pi) # Angle is theta converted to degrees\n",
    "    e.set_facecolor('none') # Ellipses will NOT be filled in\n",
    "    e.set_edgecolor('red') # The color of the ellipse is red\n",
    "    ax.add_artist(e)       # Adds the ellipse subplot to the image subplot for an entire image\n",
    "    \n",
    "#Save the figure as a PNG in the local folder. dpi will change during rasterizing so set bbox to tight.\n",
    "plt.savefig('fig4.png',bbox_inches='tight', dpi=300) "
   ]
  },
  {
   "cell_type": "markdown",
   "id": "d5f77575",
   "metadata": {},
   "source": [
    "### Aperture photometry - Perform simple circular aperture photometry with a 3 pixel radius at the locations of the objects"
   ]
  },
  {
   "cell_type": "code",
   "execution_count": null,
   "id": "f0cb7019",
   "metadata": {},
   "outputs": [],
   "source": [
    "# Calculate the flux, flux error\n",
    "# Flux is the total amount of energy crossing a unit area per unit time. \n",
    "# Fluxerr is the flux error; (sigma^2)_F = sigma^2 summed over i + F/g\n",
    "# Sigma = the noise = the globalrms from the background. \n",
    "# Set F = 3.0; sum of the flux within the radius of 3 pixels\n",
    "# gain is the poisson uncertainty\n",
    "\n",
    "flux, fluxerr, flag = sep.sum_circle(data_sub, objects['x'], objects['y'],\n",
    "                                     3.0, err=bkg.globalrms, gain=1.0) \n",
    "\n"
   ]
  },
  {
   "cell_type": "code",
   "execution_count": null,
   "id": "2f0f98f7",
   "metadata": {},
   "outputs": [],
   "source": [
    "# Print the first 10 fluxes and their uncertainty \n",
    "for i in range(10):\n",
    "    print(\"object {:d}: flux = {:f} +/- {:f}\".format(i, flux[i], fluxerr[i])) "
   ]
  },
  {
   "cell_type": "markdown",
   "id": "295e9d26",
   "metadata": {},
   "source": [
    "### Plot the histogram o the fluxes"
   ]
  },
  {
   "cell_type": "code",
   "execution_count": null,
   "id": "aab5c1ef",
   "metadata": {},
   "outputs": [],
   "source": [
    " # Convert the flux data array to 1D\n",
    "# Plot the Histogram of the fluxes. \n",
    "# X-axis - magnitude of the flux\n",
    "# Y-axis - Number of objects with similar flux\n",
    "# bins  - Number of rectangles the data is split into. Auto value will choose best fit.\n",
    "\n",
    "histogram = plt.hist(flux.flatten(), bins='auto')\n"
   ]
  },
  {
   "cell_type": "code",
   "execution_count": null,
   "id": "42a9d81d",
   "metadata": {},
   "outputs": [],
   "source": []
  }
 ],
 "metadata": {
  "kernelspec": {
   "display_name": "Python 3 (ipykernel)",
   "language": "python",
   "name": "python3"
  },
  "language_info": {
   "codemirror_mode": {
    "name": "ipython",
    "version": 3
   },
   "file_extension": ".py",
   "mimetype": "text/x-python",
   "name": "python",
   "nbconvert_exporter": "python",
   "pygments_lexer": "ipython3",
   "version": "3.9.7"
  }
 },
 "nbformat": 4,
 "nbformat_minor": 5
}
