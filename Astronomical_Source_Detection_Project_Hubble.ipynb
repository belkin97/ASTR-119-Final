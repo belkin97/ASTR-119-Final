{
 "cells": [
  {
   "cell_type": "markdown",
   "id": "52a096eb",
   "metadata": {},
   "source": [
    "## Import the packages we need (Tali)"
   ]
  },
  {
   "cell_type": "code",
   "execution_count": null,
   "id": "67027715",
   "metadata": {},
   "outputs": [],
   "source": [
    "import numpy as np #numpy will read the image into an array for source extraction \n",
    "import sep #sep is a source exraction and photometry library "
   ]
  },
  {
   "cell_type": "code",
   "execution_count": null,
   "id": "db45a097",
   "metadata": {},
   "outputs": [],
   "source": [
    "from astropy.io import fits #flexible image transport system (fits) is a portable file standard used to store images and tables\n",
    "import matplotlib.pyplot as plt #needed to show resultant images\n",
    "from matplotlib import rcParams #rcParams allows us to set color bar size, color, shape, origin, axes.\n",
    "\n",
    "%matplotlib inline \n",
    "#the plots will be displayed below the matplotlib commands and will be stored in the notebook\n",
    "\n",
    "rcParams['figure.figsize'] = [10., 8.] #set the default size of figures for the notebook "
   ]
  },
  {
   "cell_type": "markdown",
   "id": "57a04afc",
   "metadata": {},
   "source": [
    "### Reading image into 2-D numpy array (Fili)"
   ]
  },
  {
   "cell_type": "code",
   "execution_count": null,
   "id": "3fdb0098",
   "metadata": {},
   "outputs": [],
   "source": [
    "fname = \"hlsp_hudf12_hst_wfc3ir_udfmain_f105w_v1.0_drz.fits\"\n",
    "hdu_list = fits.open(fname)\n",
    "hdu_list.info()"
   ]
  },
  {
   "cell_type": "markdown",
   "id": "8f25b018",
   "metadata": {},
   "source": [
    "### Indexing the image (Fili)"
   ]
  },
  {
   "cell_type": "code",
   "execution_count": null,
   "id": "60a3270d",
   "metadata": {},
   "outputs": [],
   "source": [
    "image_data = hdu_list[0].data"
   ]
  },
  {
   "cell_type": "markdown",
   "id": "308f0943",
   "metadata": {},
   "source": [
    "### Checking the image's resolution (Fili)"
   ]
  },
  {
   "cell_type": "code",
   "execution_count": null,
   "id": "e308bc24",
   "metadata": {},
   "outputs": [],
   "source": [
    "print(type(image_data))\n",
    "print(image_data.shape)"
   ]
  },
  {
   "cell_type": "markdown",
   "id": "0b7fa624",
   "metadata": {},
   "source": [
    "### Show image (Tali)"
   ]
  },
  {
   "cell_type": "code",
   "execution_count": null,
   "id": "a3740467",
   "metadata": {},
   "outputs": [],
   "source": [
    "plt.imshow(image_data, cmap='gray', origin = 'lower') #shows the image constructed from the array data using a gray color map.\n",
    "plt.colorbar() #shows the color bar on the right hand side of the image."
   ]
  },
  {
   "cell_type": "markdown",
   "id": "123b8a09",
   "metadata": {},
   "source": [
    "## Get additional data for fun! (Tali)"
   ]
  },
  {
   "cell_type": "code",
   "execution_count": null,
   "id": "edfc1136",
   "metadata": {},
   "outputs": [],
   "source": [
    "print('Min:', np.min(image_data)) #prints the minimum value in the data array \n",
    "print('Max:', np.max(image_data)) #prints the maximum value in the data array \n",
    "print('Mean:', np.mean(image_data)) #prints the mean value in the data array \n",
    "print('Stdev:', np.std(image_data)) #prints the standard deviation of the values in the data array "
   ]
  },
  {
   "cell_type": "markdown",
   "id": "b348dac4",
   "metadata": {},
   "source": [
    "## Use logNorm to get a better quality image (Tali)"
   ]
  },
  {
   "cell_type": "code",
   "execution_count": null,
   "id": "f0cb7019",
   "metadata": {},
   "outputs": [],
   "source": [
    "from matplotlib.colors import LogNorm #lognorm normalizes the given value to a range of 0 to 1 on a logarithmic scale"
   ]
  },
  {
   "cell_type": "code",
   "execution_count": null,
   "id": "2f0f98f7",
   "metadata": {},
   "outputs": [],
   "source": [
    " plt.imshow(image_data, cmap='gray', norm=LogNorm(), origin = 'lower') #shows image with gray color map, normalize on a log scale so the bright features show up better \n",
    "\n",
    "cbar = plt.colorbar(ticks=[5.e3,1.e4,2.e4]) #color bar on the right hand side should have ticks set at 5000, 10000, and 20000\n",
    "cbar.ax.set_yticklabels(['5,000', '10,000','20,000']) #set the tick labels on the y-axes color bar at 5k, 10k, and 20k.\n",
    "\n",
    "plt.savefig('fig1.png',bbox_inches='tight', dpi=300) #save the figure as a PNG in the local folder. dpi will change during rasterizing so set bbox to tight."
   ]
  },
  {
   "cell_type": "markdown",
   "id": "65fc6e1e",
   "metadata": {},
   "source": [
    "### Using background data (Fili)\n",
    "\n",
    "#### We're going to take the background data from the image and subtract it from the image displayed above"
   ]
  },
  {
   "cell_type": "code",
   "execution_count": null,
   "id": "aab5c1ef",
   "metadata": {},
   "outputs": [],
   "source": [
    "new_data = image_data.byteswap(inplace=True).newbyteorder() #to successfully run the code, Javier \n",
    "#had to use the following line \"new_data = image_data.byteswap(inplace=True)\"\n",
    "bkg = sep.Background(new_data)"
   ]
  },
  {
   "cell_type": "code",
   "execution_count": null,
   "id": "42a9d81d",
   "metadata": {},
   "outputs": [],
   "source": [
    "print(bkg.globalback) \n",
    "print(bkg.globalrms)"
   ]
  },
  {
   "cell_type": "code",
   "execution_count": null,
   "id": "c8569ed5",
   "metadata": {},
   "outputs": [],
   "source": [
    "bkg_image = bkg.back()"
   ]
  },
  {
   "cell_type": "code",
   "execution_count": null,
   "id": "b457e88f",
   "metadata": {},
   "outputs": [],
   "source": [
    "plt.imshow(bkg_image, interpolation='nearest', cmap='gray', origin='lower')\n",
    "plt.colorbar();\n",
    "plt.savefig('fig2hubble.png',bbox_inches='tight', dpi=300)"
   ]
  },
  {
   "cell_type": "markdown",
   "id": "ac6ab9c4",
   "metadata": {},
   "source": [
    "### Subtract the noise from the image (Fili)"
   ]
  },
  {
   "cell_type": "code",
   "execution_count": null,
   "id": "111e1760",
   "metadata": {},
   "outputs": [],
   "source": [
    "data_sub = new_data - bkg "
   ]
  },
  {
   "cell_type": "code",
   "execution_count": null,
   "id": "a8f195e3",
   "metadata": {},
   "outputs": [],
   "source": [
    "objects = sep.extract(data_sub, 1.5, err=bkg.globalrms) #extracts the objects from the new data, where sigma = 1.5"
   ]
  },
  {
   "cell_type": "code",
   "execution_count": null,
   "id": "dd79a4df",
   "metadata": {},
   "outputs": [],
   "source": [
    "bkg_rms = bkg.rms()"
   ]
  },
  {
   "cell_type": "code",
   "execution_count": null,
   "id": "d1c5b23e",
   "metadata": {},
   "outputs": [],
   "source": [
    "plt.imshow(bkg_rms, interpolation='nearest', cmap='gray', origin='lower') \n",
    "plt.colorbar();\n",
    "plt.savefig('fig3.png',bbox_inches='tight', dpi=300)"
   ]
  },
  {
   "cell_type": "markdown",
   "id": "6f2a55f1",
   "metadata": {},
   "source": [
    "### Count the number of objects (Fili)"
   ]
  },
  {
   "cell_type": "code",
   "execution_count": null,
   "id": "f851e239",
   "metadata": {},
   "outputs": [],
   "source": [
    "len(objects)"
   ]
  },
  {
   "cell_type": "markdown",
   "id": "ea72f8fb",
   "metadata": {},
   "source": [
    "## Create image with ellipses (Tali)"
   ]
  },
  {
   "cell_type": "code",
   "execution_count": null,
   "id": "7efc44be",
   "metadata": {},
   "outputs": [],
   "source": [
    "from matplotlib.patches import Ellipse #will allow us to create ellipses around the objects in the image\n",
    "\n",
    "#plot the background-subtracted image\n",
    "fig, ax = plt.subplots() #allows combination of multiple plots on a single figure with axes.\n",
    "m, s = np.mean(data_sub), np.std(data_sub) #computes the average of the data_sub array elements and the standard deviation\n",
    "im = ax.imshow(data_sub, interpolation='nearest', cmap='gray',\n",
    "               vmin=m-s, vmax=m+s, origin='lower')\n",
    "#interpolation = 'nearest' means pixels are shown as a square of multiple pixels - works well when small images are scaled up.\n",
    "#cmap = 'gray' uses gray color map. Could use magma, plasma, inferno, etc..\n",
    "#vmin = m-s will map the color scale linearly so white is vmax and darjer gray is vmin.\n",
    "\n",
    "\n",
    "#plot one ellipse for each object\n",
    "for i in range(len(objects)): #for all i between 0 and 8640 (length of the objects)\n",
    "    e = Ellipse(xy=(objects['x'][i], objects['y'][i]), \n",
    "                width=6*objects['a'][i], #width (semi-major axis) of ellipse is 6 times the object. \n",
    "                height=6*objects['b'][i], #height (semi-minor axis) of ellipse is 6 times the height.\n",
    "                angle=objects['theta'][i] * 180. / np.pi) #angle is theta converted to degrees\n",
    "    e.set_facecolor('none') #ellipses will NOT be filled in\n",
    "    e.set_edgecolor('red') #the color of the ellipse is red\n",
    "    ax.add_artist(e) #adds the ellipse subplot to the image subplot for an entire image\n",
    "plt.savefig('fig4.png',bbox_inches='tight', dpi=300) #save the figure as a PNG in the local folder. dpi will change during rasterizing so set bbox to tight."
   ]
  },
  {
   "cell_type": "markdown",
   "id": "2e386afc",
   "metadata": {},
   "source": [
    "### Name off the object types (Fili)"
   ]
  },
  {
   "cell_type": "code",
   "execution_count": null,
   "id": "39d3dfad",
   "metadata": {},
   "outputs": [],
   "source": [
    "objects.dtype.names"
   ]
  },
  {
   "cell_type": "code",
   "execution_count": null,
   "id": "995828a8",
   "metadata": {},
   "outputs": [],
   "source": [
    "flux, fluxerr, flag = sep.sum_circle(data_sub, objects['x'], objects['y'],\n",
    "                                     3.0, err=bkg.globalrms, gain=1.0) \n",
    "#flux is the total amount of energy crossing a unit area per unit time. \n",
    "#fluxerr is the flux error; (sigma^2)_F = sigma^2 summed over i + F/g\n",
    "#sigma = the noise = the globalrms from the background. \n",
    "#F is the sum in the aperture = which is the sum of the flux within the radius of 3 pixels\n",
    "#g is the gain, the poisson uncertainty"
   ]
  },
  {
   "cell_type": "code",
   "execution_count": null,
   "id": "a836cec7",
   "metadata": {},
   "outputs": [],
   "source": [
    "histogram = plt.hist(flux.flatten(),bins=1000) \n",
    "#convert the flux data array to 1D\n",
    "#x-axis is the magnitude of the flux and y-axis is the number of objects with similar flux.\n",
    "#bins is number of rectangles the data is split into. 1000 bins will split the data into 1000 rectangles\n",
    "plt.xlim(-2,810) #set the x limit to include -1.06 data flux data and the highest flux at 807.29. \n",
    "plt.ylim(0,20) #set the y limit to include 0 to 20"
   ]
  },
  {
   "cell_type": "markdown",
   "id": "e18385f4",
   "metadata": {},
   "source": [
    "## Histogram the flux with AB Mag (Tali with help from Fili & Javier)"
   ]
  },
  {
   "cell_type": "code",
   "execution_count": null,
   "id": "86d263ba",
   "metadata": {},
   "outputs": [],
   "source": [
    "#np.positive(flux) #didn't work :( not sure why...so commenting this out"
   ]
  },
  {
   "cell_type": "code",
   "execution_count": null,
   "id": "9f09ee48",
   "metadata": {},
   "outputs": [],
   "source": [
    "pflux = np.extract(flux > 0, flux) #log10 doesn't like negative values but our flux has negative values so we need to extract only positive values\n",
    "print (pflux) "
   ]
  },
  {
   "cell_type": "code",
   "execution_count": null,
   "id": "790b021e",
   "metadata": {},
   "outputs": [],
   "source": [
    "ABMag = 26.0974 - 2.5*np.log10(pflux) #get the AB magnitude using the correct zeropoint for our 0.4 radius (3 pixel) aperture"
   ]
  },
  {
   "cell_type": "code",
   "execution_count": null,
   "id": "db8172f3",
   "metadata": {},
   "outputs": [],
   "source": [
    "histogram = plt.hist(ABMag.flatten(),bins='auto') #histogram it "
   ]
  },
  {
   "cell_type": "code",
   "execution_count": null,
   "id": "00b22353",
   "metadata": {},
   "outputs": [],
   "source": []
  }
 ],
 "metadata": {
  "kernelspec": {
   "display_name": "Python 3 (ipykernel)",
   "language": "python",
   "name": "python3"
  },
  "language_info": {
   "codemirror_mode": {
    "name": "ipython",
    "version": 3
   },
   "file_extension": ".py",
   "mimetype": "text/x-python",
   "name": "python",
   "nbconvert_exporter": "python",
   "pygments_lexer": "ipython3",
   "version": "3.9.9"
  }
 },
 "nbformat": 4,
 "nbformat_minor": 5
}
