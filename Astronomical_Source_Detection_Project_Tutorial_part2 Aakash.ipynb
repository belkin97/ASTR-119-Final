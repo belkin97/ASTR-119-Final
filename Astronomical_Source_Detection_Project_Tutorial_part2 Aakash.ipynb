{
 "cells": [
  {
   "cell_type": "markdown",
   "id": "52a096eb",
   "metadata": {},
   "source": [
    "## Import The Starting Databases\n"
   ]
  },
  {
   "cell_type": "code",
   "execution_count": null,
   "id": "67027715",
   "metadata": {},
   "outputs": [],
   "source": [
    "import numpy as np #numpy will read the image into an array for source extraction \n",
    "import sep #sep is a source exraction and photometry library "
   ]
  },
  {
   "cell_type": "markdown",
   "id": "6fc1ff2f",
   "metadata": {},
   "source": [
    "## Import FITS, matplotlib, set figure parameters"
   ]
  },
  {
   "cell_type": "code",
   "execution_count": null,
   "id": "db45a097",
   "metadata": {},
   "outputs": [],
   "source": [
    "from astropy.io import fits #flexible image transport system (fits) is a portable file standard used to store images and tables\n",
    "import matplotlib.pyplot as plt #needed to show resultant images\n",
    "from matplotlib import rcParams #rcParams allows us to set color bar size, color, shape, origin, axes.\n",
    "\n",
    "#the plots will be displayed below the matplotlib commands and will be stored in the notebook\n",
    "%matplotlib inline \n",
    "\n",
    "rcParams['figure.figsize'] = [10., 8.] #set the default size of figures for the notebook "
   ]
  },
  {
   "cell_type": "markdown",
   "id": "88b6164a",
   "metadata": {},
   "source": [
    "## Read the image into a 2-D array "
   ]
  },
  {
   "cell_type": "code",
   "execution_count": null,
   "id": "c70dee1f",
   "metadata": {},
   "outputs": [],
   "source": [
    "fname = \"original image.fits\" #rename the tutorial image \n",
    "hdu_list = fits.open(fname) #opens the header data unit (highest level component of fits; includes a header and a data array or table)\n",
    "hdu_list.info() #summarizes content of the opened fits file"
   ]
  },
  {
   "cell_type": "markdown",
   "id": "9bd8eebf",
   "metadata": {},
   "source": [
    "## Get dimensions of image"
   ]
  },
  {
   "cell_type": "code",
   "execution_count": null,
   "id": "1d27f5ed",
   "metadata": {
    "scrolled": true
   },
   "outputs": [],
   "source": [
    "image_data = fits.getdata(fname) #gets data from the image \n",
    "print(type(image_data)) #prints the type of data \n",
    "print(image_data.shape) #prints the data shape (dimensions in (x,y))."
   ]
  },
  {
   "cell_type": "markdown",
   "id": "887dcfaa",
   "metadata": {},
   "source": [
    "## Show image data"
   ]
  },
  {
   "cell_type": "code",
   "execution_count": null,
   "id": "e5ea2d02",
   "metadata": {
    "scrolled": true
   },
   "outputs": [],
   "source": [
    "plt.imshow(image_data, cmap='gray', origin = 'lower') #shows the image constructed from the array data using a gray color map.\n",
    "plt.colorbar() #shows the color bar on the right hand side of the image."
   ]
  },
  {
   "cell_type": "markdown",
   "id": "300839d6",
   "metadata": {},
   "source": [
    "## Get a better quality image using LogNorm"
   ]
  },
  {
   "cell_type": "code",
   "execution_count": null,
   "id": "88a163e4",
   "metadata": {},
   "outputs": [],
   "source": [
    "from matplotlib.colors import LogNorm #lognorm normalizes the given value to a range of 0 to 1 on a logarithmic scale"
   ]
  },
  {
   "cell_type": "code",
   "execution_count": null,
   "id": "8f28533c",
   "metadata": {},
   "outputs": [],
   "source": [
    "plt.imshow(image_data, cmap='gray', norm=LogNorm(), origin = 'lower') #shows image with gray color map, normalize on a log scale so the bright features show up better \n",
    "\n",
    "cbar = plt.colorbar(ticks=[5.e3,1.e4,2.e4]) #color bar on the right hand side should have ticks set at 5000, 10000, and 20000\n",
    "cbar.ax.set_yticklabels(['5,000', '10,000','20,000']) #set the tick labels on the y-axes color bar at 5k, 10k, and 20k.\n",
    "\n",
    "plt.savefig('fig1.png',bbox_inches='tight', dpi=300) #save the figure as a PNG in the local folder. dpi will change during rasterizing so set bbox to tight."
   ]
  },
  {
   "cell_type": "code",
   "execution_count": null,
   "id": "3fdb0098",
   "metadata": {},
   "outputs": [],
   "source": [
    "bkg = sep.Background(image_data) #create an array of the background using default settings"
   ]
  },
  {
   "cell_type": "code",
   "execution_count": null,
   "id": "b5df82cf",
   "metadata": {},
   "outputs": [],
   "source": [
    "print(bkg.globalback) #prints the global mean of the image background\n",
    "print(bkg.globalrms) #prints the global noise of the image background"
   ]
  },
  {
   "cell_type": "code",
   "execution_count": null,
   "id": "60a3270d",
   "metadata": {},
   "outputs": [],
   "source": [
    "bkg_image = bkg.back() #set a 2-d array of background data, same size as the original image"
   ]
  },
  {
   "cell_type": "code",
   "execution_count": null,
   "id": "7e7b086d",
   "metadata": {},
   "outputs": [],
   "source": [
    "plt.imshow(bkg_image, interpolation='nearest', cmap='gray', origin='lower')\n",
    "#interpolation = 'nearest' means pixels are shown as a square of multiple pixels - works well when small images are scaled up.\n",
    "#cmap = 'gray' uses gray color map. Could use magma, plasma, inferno, etc..\n",
    "#origin ='lower' sets the origin to the lower left hand corner\n",
    "plt.colorbar(); #displays the color bar\n",
    "plt.savefig('fig2.png',bbox_inches='tight', dpi=300) #save the figure as a PNG in the local folder. dpi will change during rasterizing so set bbox to tight."
   ]
  },
  {
   "cell_type": "code",
   "execution_count": null,
   "id": "e308bc24",
   "metadata": {},
   "outputs": [],
   "source": [
    "bkg_rms = bkg.rms() #set the background error (root mean square error)"
   ]
  },
  {
   "cell_type": "code",
   "execution_count": null,
   "id": "9d6d600e",
   "metadata": {},
   "outputs": [],
   "source": [
    "plt.imshow(bkg_rms, interpolation='nearest', cmap='gray', origin='lower') \n",
    "#interpolation = 'nearest' means pixels are shown as a square of multiple pixels - works well when small images are scaled up.\n",
    "#cmap = 'gray' uses gray color map. Could use magma, plasma, inferno, etc..\n",
    "#origin ='lower' sets the origin to the lower left hand corner\n",
    "plt.colorbar(); #displays the color bar\n",
    "plt.savefig('fig3.png',bbox_inches='tight', dpi=300) #save the figure as a PNG in the local folder. dpi will change during rasterizing so set bbox to tight."
   ]
  },
  {
   "cell_type": "code",
   "execution_count": null,
   "id": "a3740467",
   "metadata": {},
   "outputs": [],
   "source": [
    "data_sub = image_data - bkg #subtracts the background from the image data to get new data for analysis"
   ]
  }
 ],
 "metadata": {
  "kernelspec": {
   "display_name": "Python 3 (ipykernel)",
   "language": "python",
   "name": "python3"
  },
  "language_info": {
   "codemirror_mode": {
    "name": "ipython",
    "version": 3
   },
   "file_extension": ".py",
   "mimetype": "text/x-python",
   "name": "python",
   "nbconvert_exporter": "python",
   "pygments_lexer": "ipython3",
   "version": "3.9.7"
  }
 },
 "nbformat": 4,
 "nbformat_minor": 5
}
